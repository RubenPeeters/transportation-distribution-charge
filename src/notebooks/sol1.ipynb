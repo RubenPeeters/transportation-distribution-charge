{
 "cells": [
  {
   "cell_type": "code",
   "execution_count": null,
   "metadata": {},
   "outputs": [],
   "source": [
    "import pandas as pd\n",
    "import numpy as np\n",
    "from pathlib import Path"
   ]
  },
  {
   "cell_type": "code",
   "execution_count": null,
   "metadata": {},
   "outputs": [],
   "source": [
    "top_dir = Path.cwd().parent.parent\n",
    "\n",
    "sheets = pd.read_excel(top_dir / \"data\" / \"gorilla_test_data.xlsx\", sheet_name=None)\n",
    "for k, v in sheets.items():\n",
    "    print(f\"{k}:  {v.columns=}\")\n",
    "    \n"
   ]
  },
  {
   "cell_type": "code",
   "execution_count": null,
   "metadata": {},
   "outputs": [],
   "source": [
    "meter_list = sheets[\"meter_list\"]\n",
    "forecast_table = sheets[\"forecast_table\"]\n",
    "rate_table = sheets[\"rate_table\"]"
   ]
  },
  {
   "cell_type": "markdown",
   "metadata": {},
   "source": [
    "`meter_list` and `forecast_table` together will give the unique information needed to look up the rate in rate_table. Merge `meter_list` and `forecast_table` on `meter_id`."
   ]
  },
  {
   "cell_type": "code",
   "execution_count": null,
   "metadata": {},
   "outputs": [],
   "source": [
    "merged_ml_ft = meter_list.merge(forecast_table, on=\"meter_id\", how=\"right\")\n",
    "merged_ml_ft"
   ]
  },
  {
   "cell_type": "markdown",
   "metadata": {},
   "source": [
    "Merge with `rate_table` to be able to perform vectorized operations."
   ]
  },
  {
   "cell_type": "code",
   "execution_count": null,
   "metadata": {},
   "outputs": [],
   "source": [
    "merged_ml_ft_rt = merged_ml_ft.merge(rate_table, on=[\"exit_zone\",\"date\"], how=\"inner\")\n",
    "merged_ml_ft_rt"
   ]
  },
  {
   "cell_type": "markdown",
   "metadata": {},
   "source": [
    "Set `NaN` values in `aq_max_kwh` column to `np.inf` value."
   ]
  },
  {
   "cell_type": "code",
   "execution_count": null,
   "metadata": {},
   "outputs": [],
   "source": [
    "merged_ml_ft_rt[\"aq_max_kwh\"] = merged_ml_ft_rt[\"aq_max_kwh\"].fillna(value=np.inf)\n",
    "merged_ml_ft_rt"
   ]
  },
  {
   "cell_type": "markdown",
   "metadata": {},
   "source": [
    "Remove all entries where for `rate_p_per_kwh` following condition isn't fulfilled: `aq_kwh` >= `aq_min_kwh` and `aq_kwh` < `aq_max_kwh`. Special case where `aq_max_kwh` == np.nan. This means the upper bound is infinite."
   ]
  },
  {
   "cell_type": "code",
   "execution_count": null,
   "metadata": {},
   "outputs": [],
   "source": [
    "merged_ml_ft_rt = merged_ml_ft_rt[merged_ml_ft_rt[\"rate_p_per_kwh\"].between(merged_ml_ft_rt[\"aq_min_kwh\"], merged_ml_ft_rt[\"aq_max_kwh\"], inclusive=\"left\")]\n",
    "merged_ml_ft_rt"
   ]
  },
  {
   "cell_type": "markdown",
   "metadata": {},
   "source": [
    "Calculate cost per day (`kwh` * `rate_p_per_kwh`)."
   ]
  },
  {
   "cell_type": "code",
   "execution_count": null,
   "metadata": {},
   "outputs": [],
   "source": [
    "merged_ml_ft_rt[\"cost_per_day\"] = merged_ml_ft_rt[\"kwh\"] * merged_ml_ft_rt[\"rate_p_per_kwh\"]\n",
    "merged_ml_ft_rt"
   ]
  },
  {
   "cell_type": "markdown",
   "metadata": {},
   "source": [
    "Aggregating `cost_per_day` and `kwh`. Summing."
   ]
  },
  {
   "cell_type": "code",
   "execution_count": null,
   "metadata": {},
   "outputs": [],
   "source": [
    "total_cost = merged_ml_ft_rt[[\"meter_id\", \"cost_per_day\"]].groupby(\"meter_id\").sum()\n",
    "total_cost[\"cost_per_day (p)\"] = total_cost[\"cost_per_day\"] / 100\n",
    "total_consumption = merged_ml_ft_rt[[\"meter_id\", \"kwh\"]].groupby(\"meter_id\").sum()\n",
    "merged_tc_tc = total_cost.merge(total_consumption, on=\"meter_id\").reset_index()\n",
    "merged_tc_tc"
   ]
  },
  {
   "cell_type": "markdown",
   "metadata": {},
   "source": [
    "Reformatting column names and dropping `cost_per_day`."
   ]
  },
  {
   "cell_type": "code",
   "execution_count": null,
   "metadata": {},
   "outputs": [],
   "source": [
    "solution1 = merged_tc_tc.drop(\"cost_per_day\", axis=1).rename(columns={\"cost_per_day (p)\": \"Total Cost (£)\", \"meter_id\": \"Meter ID\", \"kwh\": \"Total Estimated Consumption (kWh)\"}).round(2)"
   ]
  },
  {
   "cell_type": "markdown",
   "metadata": {},
   "source": [
    "**SOLUTION 1**: Calculate total cost per meter (pounds) and total consumption (kwh)."
   ]
  },
  {
   "cell_type": "code",
   "execution_count": null,
   "metadata": {},
   "outputs": [],
   "source": [
    "solution1"
   ]
  }
 ],
 "metadata": {
  "kernelspec": {
   "display_name": "transportation-distribution-charge-4BMAZCfY-py3.11",
   "language": "python",
   "name": "python3"
  },
  "language_info": {
   "codemirror_mode": {
    "name": "ipython",
    "version": 3
   },
   "file_extension": ".py",
   "mimetype": "text/x-python",
   "name": "python",
   "nbconvert_exporter": "python",
   "pygments_lexer": "ipython3",
   "version": "3.11.6"
  }
 },
 "nbformat": 4,
 "nbformat_minor": 2
}
